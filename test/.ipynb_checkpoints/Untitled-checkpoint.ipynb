{
 "cells": [
  {
   "cell_type": "code",
   "execution_count": 6,
   "metadata": {},
   "outputs": [
    {
     "name": "stdout",
     "output_type": "stream",
     "text": [
      "{0,1,2,3,4} , {1--3,0--1,2--3,0--3,1--2,1--4,2--4,0--2}\n",
      "0\n"
     ]
    },
    {
     "data": {
      "image/svg+xml": [
       "<svg xmlns=\"http://www.w3.org/2000/svg\" xmlns:xlink=\"http://www.w3.org/1999/xlink\" width=\"189pt\" height=\"274pt\" viewBox=\"0.00 0.00 189.00 274.38\">\n",
       "<g id=\"graph0\" class=\"graph\" transform=\"scale(1 1) rotate(0) translate(4 270.38)\">\n",
       "<title>G</title>\n",
       "<!-- A -->\n",
       "<g id=\"node1\" class=\"node\">\n",
       "<title>A</title>\n",
       "<ellipse fill=\"#808080\" stroke=\"black\" cx=\"27\" cy=\"-168.86\" rx=\"27\" ry=\"20.51\"/>\n",
       "<text text-anchor=\"middle\" x=\"27\" y=\"-165.16\" font-family=\"Times,serif\" font-size=\"14.00\" fill=\"white\">A</text>\n",
       "</g>\n",
       "<!-- B -->\n",
       "<g id=\"node4\" class=\"node\">\n",
       "<title>B</title>\n",
       "<polygon fill=\"#9a5050\" stroke=\"black\" points=\"145,-112.36 91,-112.36 91,-83.36 145,-83.36 145,-112.36\"/>\n",
       "<text text-anchor=\"middle\" x=\"118\" y=\"-94.16\" font-family=\"Times,serif\" font-size=\"14.00\" fill=\"white\">B</text>\n",
       "</g>\n",
       "<!-- A&#45;&gt;B -->\n",
       "<g id=\"edge1\" class=\"edge\">\n",
       "<title>A-&gt;B</title>\n",
       "<polygon fill=\"black\" stroke=\"transparent\" stroke-width=\"2\" stroke-dasharray=\"1,5\" points=\"46.46,-154.36 48.46,-152.79 50.53,-151.16 52.66,-149.49 54.84,-147.78 57.06,-146.03 59.33,-144.25 61.62,-142.44 63.95,-140.62 66.3,-138.77 68.66,-136.91 71.04,-135.05 73.42,-133.18 75.79,-131.31 78.16,-129.45 80.52,-127.59 82.86,-125.76 85.17,-123.94 87.45,-122.15 89.69,-120.39 91.89,-118.66 91.89,-118.66 89.63,-120.31 87.33,-121.99 84.99,-123.7 82.61,-125.44 80.22,-127.19 77.8,-128.96 75.36,-130.74 72.92,-132.53 70.48,-134.31 68.04,-136.1 65.62,-137.87 63.21,-139.64 60.82,-141.38 58.46,-143.11 56.14,-144.81 53.85,-146.48 51.62,-148.11 49.43,-149.71 47.31,-151.26 45.25,-152.77 46.46,-154.36\"/>\n",
       "<polygon fill=\"black\" stroke=\"black\" stroke-width=\"2\" points=\"94.24,-121.26 100.1,-112.43 90.01,-115.69 94.24,-121.26\"/>\n",
       "</g>\n",
       "<!-- C -->\n",
       "<g id=\"node2\" class=\"node\">\n",
       "<title>C</title>\n",
       "<ellipse fill=\"#808080\" stroke=\"black\" cx=\"154\" cy=\"-245.88\" rx=\"27\" ry=\"20.51\"/>\n",
       "<text text-anchor=\"middle\" x=\"154\" y=\"-242.18\" font-family=\"Times,serif\" font-size=\"14.00\" fill=\"white\">C</text>\n",
       "</g>\n",
       "<!-- V -->\n",
       "<g id=\"node3\" class=\"node\">\n",
       "<title>V</title>\n",
       "<ellipse fill=\"#808080\" stroke=\"black\" cx=\"99\" cy=\"-168.86\" rx=\"27\" ry=\"20.51\"/>\n",
       "<text text-anchor=\"middle\" x=\"99\" y=\"-165.16\" font-family=\"Times,serif\" font-size=\"14.00\" fill=\"white\">V</text>\n",
       "</g>\n",
       "<!-- C&#45;&gt;V -->\n",
       "<g id=\"edge3\" class=\"edge\">\n",
       "<title>C-&gt;V</title>\n",
       "<path fill=\"none\" stroke=\"black\" d=\"M141.24,-227.48C134.23,-217.92 125.41,-205.88 117.64,-195.28\"/>\n",
       "<polygon fill=\"black\" stroke=\"black\" points=\"120.42,-193.16 111.69,-187.17 114.78,-197.3 120.42,-193.16\"/>\n",
       "</g>\n",
       "<!-- C&#45;&gt;B -->\n",
       "<g id=\"edge4\" class=\"edge\">\n",
       "<title>C-&gt;B</title>\n",
       "<polygon fill=\"black\" stroke=\"transparent\" stroke-width=\"2\" stroke-dasharray=\"1,5\" points=\"151.97,-225.3 151.43,-222.28 150.86,-219.1 150.26,-215.76 149.62,-212.3 148.94,-208.71 148.23,-205 147.49,-201.2 146.72,-197.31 145.91,-193.35 145.08,-189.32 144.21,-185.25 143.32,-181.13 142.4,-176.99 141.45,-172.84 140.48,-168.68 139.48,-164.53 138.46,-160.41 137.41,-156.32 136.34,-152.27 135.25,-148.29 134.88,-146.99 134.51,-145.68 134.12,-144.37 133.73,-143.05 133.32,-141.72 132.91,-140.4 132.49,-139.07 132.07,-137.74 131.64,-136.41 131.21,-135.08 130.77,-133.75 130.33,-132.44 129.88,-131.12 129.44,-129.82 128.99,-128.52 128.54,-127.23 128.09,-125.96 127.64,-124.69 127.2,-123.45 126.75,-122.21 126.75,-122.21 127.17,-123.45 127.6,-124.71 128.02,-125.98 128.44,-127.26 128.87,-128.56 129.29,-129.86 129.71,-131.18 130.13,-132.5 130.55,-133.83 130.96,-135.16 131.37,-136.49 131.77,-137.83 132.17,-139.16 132.57,-140.5 132.95,-141.83 133.33,-143.17 133.7,-144.49 134.06,-145.81 134.41,-147.12 134.75,-148.42 135.77,-152.42 136.76,-156.48 137.73,-160.58 138.67,-164.72 139.59,-168.88 140.48,-173.05 141.35,-177.22 142.19,-181.37 143.01,-185.49 143.79,-189.58 144.55,-193.62 145.28,-197.59 145.98,-201.48 146.65,-205.29 147.29,-209 147.89,-212.6 148.47,-216.08 149.01,-219.41 149.52,-222.6 149.99,-225.63 151.97,-225.3\"/>\n",
       "<polygon fill=\"black\" stroke=\"black\" stroke-width=\"2\" points=\"129.96,-120.79 123.27,-112.57 123.38,-123.16 129.96,-120.79\"/>\n",
       "</g>\n",
       "<!-- U -->\n",
       "<g id=\"node5\" class=\"node\">\n",
       "<title>U</title>\n",
       "<polygon fill=\"#50508a\" stroke=\"black\" points=\"172,-23.68 158.5,-47.54 131.5,-47.54 118,-23.68 131.5,0.18 158.5,0.18 172,-23.68\"/>\n",
       "<text text-anchor=\"middle\" x=\"145\" y=\"-19.98\" font-family=\"Times,serif\" font-size=\"14.00\" fill=\"white\">U</text>\n",
       "</g>\n",
       "<!-- C&#45;&gt;U -->\n",
       "<g id=\"edge5\" class=\"edge\">\n",
       "<title>C-&gt;U</title>\n",
       "<path fill=\"none\" stroke=\"black\" stroke-dasharray=\"5,2\" d=\"M154.96,-225.2C156.23,-194.74 157.89,-134.38 154,-83.36 153.35,-74.88 152.19,-65.78 150.91,-57.33\"/>\n",
       "<polygon fill=\"black\" stroke=\"black\" points=\"154.36,-56.75 149.32,-47.44 147.45,-57.87 154.36,-56.75\"/>\n",
       "</g>\n",
       "<!-- V&#45;&gt;B -->\n",
       "<g id=\"edge6\" class=\"edge\">\n",
       "<title>V-&gt;B</title>\n",
       "<polygon fill=\"black\" stroke=\"transparent\" stroke-width=\"2\" stroke-dasharray=\"1,5\" points=\"105.26,-148.91 105.55,-147.66 105.85,-146.39 106.15,-145.11 106.46,-143.8 106.77,-142.49 107.09,-141.16 107.4,-139.82 107.72,-138.47 108.04,-137.12 108.36,-135.76 108.69,-134.4 109.01,-133.03 109.33,-131.67 109.65,-130.31 109.97,-128.95 110.29,-127.6 110.61,-126.26 110.92,-124.93 111.24,-123.61 111.54,-122.3 111.54,-122.3 111.14,-123.58 110.73,-124.88 110.32,-126.18 109.91,-127.5 109.49,-128.82 109.07,-130.15 108.65,-131.48 108.23,-132.82 107.81,-134.16 107.39,-135.49 106.97,-136.82 106.55,-138.15 106.13,-139.47 105.72,-140.78 105.31,-142.09 104.9,-143.37 104.5,-144.65 104.11,-145.91 103.71,-147.15 103.33,-148.38 105.26,-148.91\"/>\n",
       "<polygon fill=\"black\" stroke=\"black\" stroke-width=\"2\" points=\"114.96,-123.08 114.24,-112.51 108.21,-121.22 114.96,-123.08\"/>\n",
       "</g>\n",
       "<!-- B&#45;&gt;U -->\n",
       "<g id=\"edge2\" class=\"edge\">\n",
       "<title>B-&gt;U</title>\n",
       "<path fill=\"none\" stroke=\"black\" stroke-dasharray=\"5,2\" d=\"M123.08,-83.28C125.87,-75.82 129.46,-66.23 132.92,-56.98\"/>\n",
       "<polygon fill=\"black\" stroke=\"black\" points=\"136.21,-58.15 136.44,-47.56 129.66,-55.7 136.21,-58.15\"/>\n",
       "</g>\n",
       "</g>\n",
       "</svg>"
      ],
      "text/plain": [
       "<IPython.core.display.SVG object>"
      ]
     },
     "metadata": {},
     "output_type": "display_data"
    }
   ],
   "source": [
    "import os\n",
    "from pylab import *\n",
    "import matplotlib.pyplot as plt\n",
    "from IPython.core.display import display,HTML\n",
    "import math\n",
    "import pyAgrum as gum\n",
    "import pyAgrum.lib.notebook as gnb\n",
    "\n",
    "\"\"\"\n",
    "Créer un ID avec des strings\n",
    "*D = noeud décision\n",
    "$U = noeud d'utilité\n",
    "C  = noeud chance\n",
    "\"\"\"\n",
    "ID1=gum.fastID(\"A->*B<-C->V->B->$U<-C\")\n",
    "print(ID1.moralGraph())\n",
    "print(ID1.idFromName(\"B\"))\n",
    "gnb.showInfluenceDiagram(ID1)"
   ]
  }
 ],
 "metadata": {
  "kernelspec": {
   "display_name": "Python 3",
   "language": "python",
   "name": "python3"
  },
  "language_info": {
   "codemirror_mode": {
    "name": "ipython",
    "version": 3
   },
   "file_extension": ".py",
   "mimetype": "text/x-python",
   "name": "python",
   "nbconvert_exporter": "python",
   "pygments_lexer": "ipython3",
   "version": "3.8.5"
  }
 },
 "nbformat": 4,
 "nbformat_minor": 4
}
